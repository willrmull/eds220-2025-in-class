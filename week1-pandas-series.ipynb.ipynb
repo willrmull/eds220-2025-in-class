{
 "cells": [
  {
   "cell_type": "code",
   "execution_count": 2,
   "id": "f9e56d39-4918-4ba2-a154-371bb81c1b23",
   "metadata": {
    "tags": []
   },
   "outputs": [],
   "source": [
    "import pandas as pd\n",
    "import numpy as np"
   ]
  },
  {
   "cell_type": "markdown",
   "id": "13497766-5290-4fa1-b07c-6c1102c023f5",
   "metadata": {},
   "source": [
    "### Python Review"
   ]
  },
  {
   "cell_type": "markdown",
   "id": "8b1e2c94-eec8-434c-b34c-d1479e24ce48",
   "metadata": {},
   "source": [
    "### How would you access the value 5 in the array a?\n",
    "\n",
    "a[4]"
   ]
  },
  {
   "cell_type": "markdown",
   "id": "b8d01f92-b4b6-43c8-8f46-4780d6aa52cd",
   "metadata": {},
   "source": [
    "### Suppose we have a class fish, make a diagram similar to the cat class diagram showing 3 ### attributes for the class and 3 methods.\n",
    "\n",
    "class fish:\n",
    "    attribute:\n",
    "        weight\n",
    "        clade\n",
    "        length\n",
    "    methods:\n",
    "        tail rate\n",
    "        eat\n",
    "        sleep"
   ]
  },
  {
   "cell_type": "markdown",
   "id": "05a7faec-1497-444d-bc37-de51ada19362",
   "metadata": {},
   "source": [
    "### We can also call the min method without any parameters:\n",
    "\n",
    "### var.min()\n",
    "\n",
    "### 1\n",
    "### What kind of parameter is axis in our previous call of the var method?\n",
    "\n",
    "Axis is specifying if we are looking at the columns or rows. Previously we said to find the min in a row"
   ]
  },
  {
   "cell_type": "code",
   "execution_count": 10,
   "id": "c259a5bc-5c14-418c-ac1b-43d504c0fa61",
   "metadata": {
    "tags": []
   },
   "outputs": [
    {
     "data": {
      "text/plain": [
       "builtin_function_or_method"
      ]
     },
     "execution_count": 10,
     "metadata": {},
     "output_type": "execute_result"
    }
   ],
   "source": [
    "a = a = np.array([[1,1,2],[3,5,8]])\n",
    "type(a.min)"
   ]
  },
  {
   "cell_type": "code",
   "execution_count": 12,
   "id": "da969d52-cec8-4037-ad5b-8922595f4d06",
   "metadata": {
    "tags": []
   },
   "outputs": [
    {
     "name": "stdout",
     "output_type": "stream",
     "text": [
      "77%99%77\n"
     ]
    }
   ],
   "source": [
    "# sep is optional\n",
    "num_1 = 77\n",
    "num_2 = 99\n",
    "\n",
    "print(num_1, num_2, num_1, sep=\"%\")"
   ]
  },
  {
   "cell_type": "markdown",
   "id": "f9f76752-ae42-40fa-871a-68b8dd3ee9a0",
   "metadata": {},
   "source": [
    "\n",
    "<h4 align = \"left\", style=\"border-bottom: 3px solid white; padding-bottom: 20px;\">\n",
    "  The integer number -999 is often used to represent missing values. Create a pandas.Series named s with four integer values, two of which are -999. The index of this series should be the the letters A through D.\n",
    "    In the pandas.Series documentation, look for the method mask(). Use this method to update the series s so that the -999 values are replaced by NA values. HINT: check the first example in the method’s documentation.\n",
    "</h4>\n"
   ]
  },
  {
   "cell_type": "code",
   "execution_count": 15,
   "id": "b130701c-652e-4313-8550-5d747e003a69",
   "metadata": {
    "tags": []
   },
   "outputs": [
    {
     "data": {
      "text/plain": [
       "A    1.0\n",
       "B    NaN\n",
       "C    2.0\n",
       "D    NaN\n",
       "dtype: float64"
      ]
     },
     "execution_count": 15,
     "metadata": {},
     "output_type": "execute_result"
    }
   ],
   "source": [
    "s = pd.Series(data = [1, -999, 2, -999], index = [\"A\", \"B\", \"C\", \"D\"])\n",
    "s_clean = s.mask(s <= -999)\n",
    "s_clean"
   ]
  },
  {
   "cell_type": "markdown",
   "id": "a76a91c1-09f3-4fc0-a731-5cbb48b8fe80",
   "metadata": {},
   "source": [
    "<h4 align = \"left\", style=\"border-bottom: 3px solid white; padding-bottom: 20px;\">\n",
    "  We can access the data frame’s column names via the columns attribute. Update the column names to C1 and C2 by updating this attribute.\n",
    "</h4>"
   ]
  },
  {
   "cell_type": "code",
   "execution_count": 22,
   "id": "47422d07-0316-4556-91bb-52bb228eedb6",
   "metadata": {
    "tags": []
   },
   "outputs": [
    {
     "name": "stdout",
     "output_type": "stream",
     "text": [
      "   C1   C2\n",
      "0   0  3.1\n",
      "1   1  3.2\n",
      "2   2  3.3\n"
     ]
    }
   ],
   "source": [
    "# Initialize dictionary with columns' data \n",
    "d = {'col_name_1' : pd.Series(np.arange(3)),\n",
    "     'col_name_2' : pd.Series([3.1, 3.2, 3.3]),\n",
    "     }\n",
    "\n",
    "# Create data frame\n",
    "df = pd.DataFrame(d)\n",
    "\n",
    "df.columns = [\"C1\", \"C2\"]\n",
    "print(df)"
   ]
  },
  {
   "cell_type": "code",
   "execution_count": null,
   "id": "84aad0eb-2b41-4d62-be68-13d0ffacef75",
   "metadata": {},
   "outputs": [],
   "source": []
  }
 ],
 "metadata": {
  "kernelspec": {
   "display_name": "EDS220",
   "language": "python",
   "name": "eds220-env"
  },
  "language_info": {
   "codemirror_mode": {
    "name": "ipython",
    "version": 3
   },
   "file_extension": ".py",
   "mimetype": "text/x-python",
   "name": "python",
   "nbconvert_exporter": "python",
   "pygments_lexer": "ipython3",
   "version": "3.11.4"
  }
 },
 "nbformat": 4,
 "nbformat_minor": 5
}
