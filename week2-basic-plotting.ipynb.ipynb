{
 "cells": [
  {
   "cell_type": "markdown",
   "id": "35647b24-ad7e-4648-9a8b-c4baa6321c3e",
   "metadata": {},
   "source": [
    "Plot a graph of the spring bird surveys at Mugu Lagoon with respect to the years. Include some basic customization.\n",
    "\n",
    "Use the isna() method for pandas.Series and row selection to select the rows in which Mugu Lagoon has NAs during the spring survey."
   ]
  },
  {
   "cell_type": "code",
   "execution_count": null,
   "id": "b578e399-b730-4529-83e1-bef780a04bf4",
   "metadata": {},
   "outputs": [],
   "source": []
  },
  {
   "cell_type": "markdown",
   "id": "8c4f2d9f-b791-45d7-bf6a-da876e44330d",
   "metadata": {},
   "source": [
    "Without running the code, give a step-by-step breakdown of what this code is doing:\n",
    "\n",
    "    df.set_index('year').loc[:,'SDW_winter':'TJE_fall'].plot()\n",
    "\n",
    "Is is \n",
    "\n",
    "Is this code modifying the data frame df? Why or why not?\n",
    "\n",
    "Run the code and examine the graph. Review the data description. Do we have all the necessary information to make sure it makes sense to directly compare the surveys at these different sites?"
   ]
  }
 ],
 "metadata": {
  "kernelspec": {
   "display_name": "EDS220",
   "language": "python",
   "name": "eds220-env"
  },
  "language_info": {
   "codemirror_mode": {
    "name": "ipython",
    "version": 3
   },
   "file_extension": ".py",
   "mimetype": "text/x-python",
   "name": "python",
   "nbconvert_exporter": "python",
   "pygments_lexer": "ipython3",
   "version": "3.11.4"
  }
 },
 "nbformat": 4,
 "nbformat_minor": 5
}
